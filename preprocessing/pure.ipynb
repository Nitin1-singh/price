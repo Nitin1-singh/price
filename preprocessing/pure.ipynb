{
 "cells": [
  {
   "cell_type": "code",
   "execution_count": 27,
   "metadata": {},
   "outputs": [],
   "source": [
    "# import pandas\n",
    "import pandas as pd\n",
    "from sklearn.model_selection import train_test_split"
   ]
  },
  {
   "cell_type": "markdown",
   "metadata": {},
   "source": [
    "## Viewing data\n"
   ]
  },
  {
   "cell_type": "code",
   "execution_count": 28,
   "metadata": {},
   "outputs": [
    {
     "data": {
      "text/html": [
       "<div>\n",
       "<style scoped>\n",
       "    .dataframe tbody tr th:only-of-type {\n",
       "        vertical-align: middle;\n",
       "    }\n",
       "\n",
       "    .dataframe tbody tr th {\n",
       "        vertical-align: top;\n",
       "    }\n",
       "\n",
       "    .dataframe thead th {\n",
       "        text-align: right;\n",
       "    }\n",
       "</style>\n",
       "<table border=\"1\" class=\"dataframe\">\n",
       "  <thead>\n",
       "    <tr style=\"text-align: right;\">\n",
       "      <th></th>\n",
       "      <th>area_type</th>\n",
       "      <th>availability</th>\n",
       "      <th>location</th>\n",
       "      <th>size</th>\n",
       "      <th>society</th>\n",
       "      <th>total_sqft</th>\n",
       "      <th>bath</th>\n",
       "      <th>balcony</th>\n",
       "      <th>price</th>\n",
       "    </tr>\n",
       "  </thead>\n",
       "  <tbody>\n",
       "    <tr>\n",
       "      <th>0</th>\n",
       "      <td>Plot  Area</td>\n",
       "      <td>18-Nov</td>\n",
       "      <td>Channasandra</td>\n",
       "      <td>3 Bedroom</td>\n",
       "      <td>NaN</td>\n",
       "      <td>1200</td>\n",
       "      <td>3.0</td>\n",
       "      <td>1.0</td>\n",
       "      <td>67.77</td>\n",
       "    </tr>\n",
       "    <tr>\n",
       "      <th>1</th>\n",
       "      <td>Super built-up  Area</td>\n",
       "      <td>Ready To Move</td>\n",
       "      <td>Kothanur</td>\n",
       "      <td>3 BHK</td>\n",
       "      <td>Gilleon</td>\n",
       "      <td>1820</td>\n",
       "      <td>3.0</td>\n",
       "      <td>3.0</td>\n",
       "      <td>77.00</td>\n",
       "    </tr>\n",
       "    <tr>\n",
       "      <th>2</th>\n",
       "      <td>Super built-up  Area</td>\n",
       "      <td>Ready To Move</td>\n",
       "      <td>Banashankari</td>\n",
       "      <td>2 BHK</td>\n",
       "      <td>NaN</td>\n",
       "      <td>1040</td>\n",
       "      <td>2.0</td>\n",
       "      <td>3.0</td>\n",
       "      <td>45.00</td>\n",
       "    </tr>\n",
       "    <tr>\n",
       "      <th>3</th>\n",
       "      <td>Super built-up  Area</td>\n",
       "      <td>18-Apr</td>\n",
       "      <td>Electronic City</td>\n",
       "      <td>3 BHK</td>\n",
       "      <td>Prarkun</td>\n",
       "      <td>1599</td>\n",
       "      <td>3.0</td>\n",
       "      <td>2.0</td>\n",
       "      <td>125.00</td>\n",
       "    </tr>\n",
       "    <tr>\n",
       "      <th>4</th>\n",
       "      <td>Built-up  Area</td>\n",
       "      <td>Ready To Move</td>\n",
       "      <td>Kadugodi</td>\n",
       "      <td>3 BHK</td>\n",
       "      <td>MSingco</td>\n",
       "      <td>1260</td>\n",
       "      <td>2.0</td>\n",
       "      <td>2.0</td>\n",
       "      <td>54.00</td>\n",
       "    </tr>\n",
       "    <tr>\n",
       "      <th>...</th>\n",
       "      <td>...</td>\n",
       "      <td>...</td>\n",
       "      <td>...</td>\n",
       "      <td>...</td>\n",
       "      <td>...</td>\n",
       "      <td>...</td>\n",
       "      <td>...</td>\n",
       "      <td>...</td>\n",
       "      <td>...</td>\n",
       "    </tr>\n",
       "    <tr>\n",
       "      <th>9985</th>\n",
       "      <td>Built-up  Area</td>\n",
       "      <td>Ready To Move</td>\n",
       "      <td>Yelahanka</td>\n",
       "      <td>2 BHK</td>\n",
       "      <td>AdniaSk</td>\n",
       "      <td>1250</td>\n",
       "      <td>2.0</td>\n",
       "      <td>2.0</td>\n",
       "      <td>54.00</td>\n",
       "    </tr>\n",
       "    <tr>\n",
       "      <th>9986</th>\n",
       "      <td>Super built-up  Area</td>\n",
       "      <td>Ready To Move</td>\n",
       "      <td>Sarjapur  Road</td>\n",
       "      <td>3 BHK</td>\n",
       "      <td>SoniaEt</td>\n",
       "      <td>2070</td>\n",
       "      <td>4.0</td>\n",
       "      <td>2.0</td>\n",
       "      <td>160.00</td>\n",
       "    </tr>\n",
       "    <tr>\n",
       "      <th>9987</th>\n",
       "      <td>Super built-up  Area</td>\n",
       "      <td>18-Apr</td>\n",
       "      <td>Virat Nagar</td>\n",
       "      <td>3 BHK</td>\n",
       "      <td>NaN</td>\n",
       "      <td>1215</td>\n",
       "      <td>2.0</td>\n",
       "      <td>2.0</td>\n",
       "      <td>49.75</td>\n",
       "    </tr>\n",
       "    <tr>\n",
       "      <th>9988</th>\n",
       "      <td>Built-up  Area</td>\n",
       "      <td>Ready To Move</td>\n",
       "      <td>3rd Block Hrbr Layout</td>\n",
       "      <td>2 BHK</td>\n",
       "      <td>Icncy R</td>\n",
       "      <td>1320</td>\n",
       "      <td>2.0</td>\n",
       "      <td>3.0</td>\n",
       "      <td>90.00</td>\n",
       "    </tr>\n",
       "    <tr>\n",
       "      <th>9989</th>\n",
       "      <td>Super built-up  Area</td>\n",
       "      <td>21-Dec</td>\n",
       "      <td>Electronic City</td>\n",
       "      <td>1 BHK</td>\n",
       "      <td>KonteiT</td>\n",
       "      <td>710</td>\n",
       "      <td>1.0</td>\n",
       "      <td>1.0</td>\n",
       "      <td>40.42</td>\n",
       "    </tr>\n",
       "  </tbody>\n",
       "</table>\n",
       "<p>9990 rows × 9 columns</p>\n",
       "</div>"
      ],
      "text/plain": [
       "                 area_type   availability               location       size  \\\n",
       "0               Plot  Area         18-Nov           Channasandra  3 Bedroom   \n",
       "1     Super built-up  Area  Ready To Move               Kothanur      3 BHK   \n",
       "2     Super built-up  Area  Ready To Move           Banashankari      2 BHK   \n",
       "3     Super built-up  Area         18-Apr        Electronic City      3 BHK   \n",
       "4           Built-up  Area  Ready To Move               Kadugodi      3 BHK   \n",
       "...                    ...            ...                    ...        ...   \n",
       "9985        Built-up  Area  Ready To Move              Yelahanka      2 BHK   \n",
       "9986  Super built-up  Area  Ready To Move         Sarjapur  Road      3 BHK   \n",
       "9987  Super built-up  Area         18-Apr            Virat Nagar      3 BHK   \n",
       "9988        Built-up  Area  Ready To Move  3rd Block Hrbr Layout      2 BHK   \n",
       "9989  Super built-up  Area         21-Dec        Electronic City      1 BHK   \n",
       "\n",
       "      society total_sqft  bath  balcony   price  \n",
       "0         NaN       1200   3.0      1.0   67.77  \n",
       "1     Gilleon       1820   3.0      3.0   77.00  \n",
       "2         NaN       1040   2.0      3.0   45.00  \n",
       "3     Prarkun       1599   3.0      2.0  125.00  \n",
       "4     MSingco       1260   2.0      2.0   54.00  \n",
       "...       ...        ...   ...      ...     ...  \n",
       "9985  AdniaSk       1250   2.0      2.0   54.00  \n",
       "9986  SoniaEt       2070   4.0      2.0  160.00  \n",
       "9987      NaN       1215   2.0      2.0   49.75  \n",
       "9988  Icncy R       1320   2.0      3.0   90.00  \n",
       "9989  KonteiT        710   1.0      1.0   40.42  \n",
       "\n",
       "[9990 rows x 9 columns]"
      ]
     },
     "execution_count": 28,
     "metadata": {},
     "output_type": "execute_result"
    }
   ],
   "source": [
    "data = pd.read_csv('./main_data.csv')\n",
    "data"
   ]
  },
  {
   "cell_type": "code",
   "execution_count": 29,
   "metadata": {},
   "outputs": [
    {
     "data": {
      "text/plain": [
       "area_type          0\n",
       "availability       0\n",
       "location           0\n",
       "size              13\n",
       "society         4107\n",
       "total_sqft         0\n",
       "bath              51\n",
       "balcony          460\n",
       "price              0\n",
       "dtype: int64"
      ]
     },
     "execution_count": 29,
     "metadata": {},
     "output_type": "execute_result"
    }
   ],
   "source": [
    "# null values\n",
    "data.isnull().sum()"
   ]
  },
  {
   "cell_type": "markdown",
   "metadata": {},
   "source": [
    "## Feature selection\n"
   ]
  },
  {
   "cell_type": "code",
   "execution_count": 30,
   "metadata": {},
   "outputs": [],
   "source": [
    "# dropping features\n",
    "data.drop(columns=['area_type','society','balcony','availability'],inplace=True)\n"
   ]
  },
  {
   "cell_type": "code",
   "execution_count": 31,
   "metadata": {},
   "outputs": [
    {
     "data": {
      "text/html": [
       "<div>\n",
       "<style scoped>\n",
       "    .dataframe tbody tr th:only-of-type {\n",
       "        vertical-align: middle;\n",
       "    }\n",
       "\n",
       "    .dataframe tbody tr th {\n",
       "        vertical-align: top;\n",
       "    }\n",
       "\n",
       "    .dataframe thead th {\n",
       "        text-align: right;\n",
       "    }\n",
       "</style>\n",
       "<table border=\"1\" class=\"dataframe\">\n",
       "  <thead>\n",
       "    <tr style=\"text-align: right;\">\n",
       "      <th></th>\n",
       "      <th>location</th>\n",
       "      <th>size</th>\n",
       "      <th>total_sqft</th>\n",
       "      <th>bath</th>\n",
       "      <th>price</th>\n",
       "    </tr>\n",
       "  </thead>\n",
       "  <tbody>\n",
       "    <tr>\n",
       "      <th>0</th>\n",
       "      <td>Channasandra</td>\n",
       "      <td>3 Bedroom</td>\n",
       "      <td>1200</td>\n",
       "      <td>3.0</td>\n",
       "      <td>67.77</td>\n",
       "    </tr>\n",
       "    <tr>\n",
       "      <th>1</th>\n",
       "      <td>Kothanur</td>\n",
       "      <td>3 BHK</td>\n",
       "      <td>1820</td>\n",
       "      <td>3.0</td>\n",
       "      <td>77.00</td>\n",
       "    </tr>\n",
       "    <tr>\n",
       "      <th>2</th>\n",
       "      <td>Banashankari</td>\n",
       "      <td>2 BHK</td>\n",
       "      <td>1040</td>\n",
       "      <td>2.0</td>\n",
       "      <td>45.00</td>\n",
       "    </tr>\n",
       "    <tr>\n",
       "      <th>3</th>\n",
       "      <td>Electronic City</td>\n",
       "      <td>3 BHK</td>\n",
       "      <td>1599</td>\n",
       "      <td>3.0</td>\n",
       "      <td>125.00</td>\n",
       "    </tr>\n",
       "    <tr>\n",
       "      <th>4</th>\n",
       "      <td>Kadugodi</td>\n",
       "      <td>3 BHK</td>\n",
       "      <td>1260</td>\n",
       "      <td>2.0</td>\n",
       "      <td>54.00</td>\n",
       "    </tr>\n",
       "    <tr>\n",
       "      <th>...</th>\n",
       "      <td>...</td>\n",
       "      <td>...</td>\n",
       "      <td>...</td>\n",
       "      <td>...</td>\n",
       "      <td>...</td>\n",
       "    </tr>\n",
       "    <tr>\n",
       "      <th>9985</th>\n",
       "      <td>Yelahanka</td>\n",
       "      <td>2 BHK</td>\n",
       "      <td>1250</td>\n",
       "      <td>2.0</td>\n",
       "      <td>54.00</td>\n",
       "    </tr>\n",
       "    <tr>\n",
       "      <th>9986</th>\n",
       "      <td>Sarjapur  Road</td>\n",
       "      <td>3 BHK</td>\n",
       "      <td>2070</td>\n",
       "      <td>4.0</td>\n",
       "      <td>160.00</td>\n",
       "    </tr>\n",
       "    <tr>\n",
       "      <th>9987</th>\n",
       "      <td>Virat Nagar</td>\n",
       "      <td>3 BHK</td>\n",
       "      <td>1215</td>\n",
       "      <td>2.0</td>\n",
       "      <td>49.75</td>\n",
       "    </tr>\n",
       "    <tr>\n",
       "      <th>9988</th>\n",
       "      <td>3rd Block Hrbr Layout</td>\n",
       "      <td>2 BHK</td>\n",
       "      <td>1320</td>\n",
       "      <td>2.0</td>\n",
       "      <td>90.00</td>\n",
       "    </tr>\n",
       "    <tr>\n",
       "      <th>9989</th>\n",
       "      <td>Electronic City</td>\n",
       "      <td>1 BHK</td>\n",
       "      <td>710</td>\n",
       "      <td>1.0</td>\n",
       "      <td>40.42</td>\n",
       "    </tr>\n",
       "  </tbody>\n",
       "</table>\n",
       "<p>9990 rows × 5 columns</p>\n",
       "</div>"
      ],
      "text/plain": [
       "                   location       size total_sqft  bath   price\n",
       "0              Channasandra  3 Bedroom       1200   3.0   67.77\n",
       "1                  Kothanur      3 BHK       1820   3.0   77.00\n",
       "2              Banashankari      2 BHK       1040   2.0   45.00\n",
       "3           Electronic City      3 BHK       1599   3.0  125.00\n",
       "4                  Kadugodi      3 BHK       1260   2.0   54.00\n",
       "...                     ...        ...        ...   ...     ...\n",
       "9985              Yelahanka      2 BHK       1250   2.0   54.00\n",
       "9986         Sarjapur  Road      3 BHK       2070   4.0  160.00\n",
       "9987            Virat Nagar      3 BHK       1215   2.0   49.75\n",
       "9988  3rd Block Hrbr Layout      2 BHK       1320   2.0   90.00\n",
       "9989        Electronic City      1 BHK        710   1.0   40.42\n",
       "\n",
       "[9990 rows x 5 columns]"
      ]
     },
     "execution_count": 31,
     "metadata": {},
     "output_type": "execute_result"
    }
   ],
   "source": [
    "# describe\n",
    "data"
   ]
  },
  {
   "cell_type": "markdown",
   "metadata": {},
   "source": [
    "## bhk data mining"
   ]
  },
  {
   "cell_type": "code",
   "execution_count": 32,
   "metadata": {},
   "outputs": [],
   "source": [
    "data['size'] = data['size'].fillna('2 BHK')\n",
    "data['bhk'] = data['size'].str.split().str.get(0).astype(int)"
   ]
  },
  {
   "cell_type": "markdown",
   "metadata": {},
   "source": [
    "## location data mining"
   ]
  },
  {
   "cell_type": "code",
   "execution_count": 33,
   "metadata": {},
   "outputs": [
    {
     "data": {
      "text/plain": [
       "location\n",
       "other                     2584\n",
       "Whitefield                 429\n",
       "Sarjapur  Road             288\n",
       "Electronic City            229\n",
       "Kanakpura Road             205\n",
       "                          ... \n",
       "Gollarapalya Hosahalli      11\n",
       "Kereguddadahalli            11\n",
       "Cox Town                    11\n",
       "Banashankari Stage V        11\n",
       "Kodigehaali                 11\n",
       "Name: count, Length: 193, dtype: int64"
      ]
     },
     "execution_count": 33,
     "metadata": {},
     "output_type": "execute_result"
    }
   ],
   "source": [
    "data['location'] = data['location'].apply(lambda x: x.strip())\n",
    "location_count = data['location'].value_counts()\n",
    "location_less_then_10 = location_count[location_count<=10]\n",
    "\n",
    "data['location'] = data['location'].apply(lambda x:'other' if x in location_less_then_10 else x)\n",
    "data['location'].value_counts()"
   ]
  },
  {
   "cell_type": "markdown",
   "metadata": {},
   "source": [
    "## total sqft data mining\n"
   ]
  },
  {
   "cell_type": "code",
   "execution_count": 34,
   "metadata": {},
   "outputs": [],
   "source": [
    "# resolve range problem\n",
    "def range_sqft(x):\n",
    "    temp = x.split('-')\n",
    "    try:\n",
    "        if len(temp) == 2:\n",
    "            return (float(temp[0])+float(temp[1]))/2\n",
    "        else:\n",
    "            return float(x)\n",
    "    except:\n",
    "        return 0.0\n",
    "    \n",
    "data['total_sqft'] = data['total_sqft'].apply(range_sqft)\n"
   ]
  },
  {
   "cell_type": "code",
   "execution_count": 35,
   "metadata": {},
   "outputs": [
    {
     "data": {
      "text/plain": [
       "array([1200. , 1820. , 1040. , ..., 3170. , 1379. , 3416.5])"
      ]
     },
     "execution_count": 35,
     "metadata": {},
     "output_type": "execute_result"
    }
   ],
   "source": [
    "data['total_sqft'].unique()"
   ]
  },
  {
   "cell_type": "markdown",
   "metadata": {},
   "source": [
    "## bathroom missing value"
   ]
  },
  {
   "cell_type": "code",
   "execution_count": 36,
   "metadata": {},
   "outputs": [
    {
     "name": "stdout",
     "output_type": "stream",
     "text": [
      "<class 'pandas.core.frame.DataFrame'>\n",
      "RangeIndex: 9990 entries, 0 to 9989\n",
      "Data columns (total 5 columns):\n",
      " #   Column      Non-Null Count  Dtype  \n",
      "---  ------      --------------  -----  \n",
      " 0   location    9990 non-null   object \n",
      " 1   total_sqft  9990 non-null   float64\n",
      " 2   bath        9990 non-null   float64\n",
      " 3   price       9990 non-null   float64\n",
      " 4   bhk         9990 non-null   float64\n",
      "dtypes: float64(4), object(1)\n",
      "memory usage: 390.4+ KB\n"
     ]
    }
   ],
   "source": [
    "data['bath'].isnull().sum()\n",
    "data['bath'] = data['bath'].fillna(2.0)\n",
    "data['bath'] = data['bath'].astype(float)\n",
    "data['bhk'] = data['bhk'].astype(float)\n",
    "\n",
    "data.drop(columns=['size'], inplace=True)\n",
    "data.info()\n"
   ]
  },
  {
   "cell_type": "markdown",
   "metadata": {},
   "source": [
    "## Outlier\n"
   ]
  },
  {
   "cell_type": "code",
   "execution_count": 37,
   "metadata": {},
   "outputs": [],
   "source": [
    "# remove sqft outlier\n",
    "import numpy as np\n",
    "def remove_sqft(df):\n",
    "    df_out = pd.DataFrame()\n",
    "    for key,subdf in df.groupby('location'):\n",
    "        m = np.mean(subdf.price_per_sqft)\n",
    "        st = np.mean(subdf.price_per_sqft)\n",
    "        gendf = subdf[(subdf.price_per_sqft > (m-st)) & (subdf.price_per_sqft <= (m+st))]\n",
    "        df_out = pd.concat([df_out,gendf],ignore_index=True)\n",
    "    return df_out\n"
   ]
  },
  {
   "cell_type": "code",
   "execution_count": 38,
   "metadata": {},
   "outputs": [
    {
     "data": {
      "text/html": [
       "<div>\n",
       "<style scoped>\n",
       "    .dataframe tbody tr th:only-of-type {\n",
       "        vertical-align: middle;\n",
       "    }\n",
       "\n",
       "    .dataframe tbody tr th {\n",
       "        vertical-align: top;\n",
       "    }\n",
       "\n",
       "    .dataframe thead th {\n",
       "        text-align: right;\n",
       "    }\n",
       "</style>\n",
       "<table border=\"1\" class=\"dataframe\">\n",
       "  <thead>\n",
       "    <tr style=\"text-align: right;\">\n",
       "      <th></th>\n",
       "      <th>total_sqft</th>\n",
       "      <th>bath</th>\n",
       "      <th>price</th>\n",
       "      <th>bhk</th>\n",
       "      <th>price_per_sqft</th>\n",
       "    </tr>\n",
       "  </thead>\n",
       "  <tbody>\n",
       "    <tr>\n",
       "      <th>count</th>\n",
       "      <td>9058.000000</td>\n",
       "      <td>9058.000000</td>\n",
       "      <td>9058.000000</td>\n",
       "      <td>9058.000000</td>\n",
       "      <td>9058.000000</td>\n",
       "    </tr>\n",
       "    <tr>\n",
       "      <th>mean</th>\n",
       "      <td>1562.315895</td>\n",
       "      <td>2.514131</td>\n",
       "      <td>98.215645</td>\n",
       "      <td>2.610068</td>\n",
       "      <td>5811.248975</td>\n",
       "    </tr>\n",
       "    <tr>\n",
       "      <th>std</th>\n",
       "      <td>1169.224500</td>\n",
       "      <td>1.035246</td>\n",
       "      <td>106.779861</td>\n",
       "      <td>0.937648</td>\n",
       "      <td>2562.822994</td>\n",
       "    </tr>\n",
       "    <tr>\n",
       "      <th>min</th>\n",
       "      <td>300.000000</td>\n",
       "      <td>1.000000</td>\n",
       "      <td>8.440000</td>\n",
       "      <td>1.000000</td>\n",
       "      <td>267.829813</td>\n",
       "    </tr>\n",
       "    <tr>\n",
       "      <th>25%</th>\n",
       "      <td>1115.000000</td>\n",
       "      <td>2.000000</td>\n",
       "      <td>48.000000</td>\n",
       "      <td>2.000000</td>\n",
       "      <td>4184.553540</td>\n",
       "    </tr>\n",
       "    <tr>\n",
       "      <th>50%</th>\n",
       "      <td>1299.000000</td>\n",
       "      <td>2.000000</td>\n",
       "      <td>68.000000</td>\n",
       "      <td>2.000000</td>\n",
       "      <td>5230.706854</td>\n",
       "    </tr>\n",
       "    <tr>\n",
       "      <th>75%</th>\n",
       "      <td>1682.750000</td>\n",
       "      <td>3.000000</td>\n",
       "      <td>108.000000</td>\n",
       "      <td>3.000000</td>\n",
       "      <td>6666.666667</td>\n",
       "    </tr>\n",
       "    <tr>\n",
       "      <th>max</th>\n",
       "      <td>52272.000000</td>\n",
       "      <td>16.000000</td>\n",
       "      <td>2200.000000</td>\n",
       "      <td>16.000000</td>\n",
       "      <td>32000.000000</td>\n",
       "    </tr>\n",
       "  </tbody>\n",
       "</table>\n",
       "</div>"
      ],
      "text/plain": [
       "         total_sqft         bath        price          bhk  price_per_sqft\n",
       "count   9058.000000  9058.000000  9058.000000  9058.000000     9058.000000\n",
       "mean    1562.315895     2.514131    98.215645     2.610068     5811.248975\n",
       "std     1169.224500     1.035246   106.779861     0.937648     2562.822994\n",
       "min      300.000000     1.000000     8.440000     1.000000      267.829813\n",
       "25%     1115.000000     2.000000    48.000000     2.000000     4184.553540\n",
       "50%     1299.000000     2.000000    68.000000     2.000000     5230.706854\n",
       "75%     1682.750000     3.000000   108.000000     3.000000     6666.666667\n",
       "max    52272.000000    16.000000  2200.000000    16.000000    32000.000000"
      ]
     },
     "execution_count": 38,
     "metadata": {},
     "output_type": "execute_result"
    }
   ],
   "source": [
    "# outlier for total_sqft\n",
    "import matplotlib.pyplot as plt\n",
    "import seaborn as sns\n",
    "data['total_sqft'] = data[data['total_sqft'] > 0.0 ]['total_sqft']\n",
    "data['price_per_sqft'] = (data['price']*100000) / data['total_sqft']\n",
    "\n",
    "data = data[((data['total_sqft']/data['bhk']) >= 300)]\n",
    "data = remove_sqft(data)\n",
    "data.describe()"
   ]
  },
  {
   "cell_type": "markdown",
   "metadata": {},
   "source": [
    "## convert data frame to csv"
   ]
  },
  {
   "cell_type": "code",
   "execution_count": 39,
   "metadata": {},
   "outputs": [],
   "source": [
    "data.drop(columns=['price_per_sqft'],inplace=True)\n",
    "data.to_csv('../model/pure_data.csv',index=False)\n",
    "response = data.drop(columns=['price'])\n",
    "response.to_csv('../deploy/response.csv')"
   ]
  }
 ],
 "metadata": {
  "kernelspec": {
   "display_name": "Python 3",
   "language": "python",
   "name": "python3"
  },
  "language_info": {
   "codemirror_mode": {
    "name": "ipython",
    "version": 3
   },
   "file_extension": ".py",
   "mimetype": "text/x-python",
   "name": "python",
   "nbconvert_exporter": "python",
   "pygments_lexer": "ipython3",
   "version": "3.12.0"
  }
 },
 "nbformat": 4,
 "nbformat_minor": 2
}
